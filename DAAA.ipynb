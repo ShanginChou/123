import pandas as pd
import numpy as np
from pandas_datareader import data
import pandas_datareader.data as web
import datetime
import matplotlib.pyplot as plt
import sklearn.model_selection
