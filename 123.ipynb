{
 "cells": [
  {
   "cell_type": "code",
   "execution_count": null,
   "metadata": {},
   "outputs": [],
   "source": [
    "import pandas as pd\n",
    "import numpy as np\n",
    "from pandas_datareader import data\n",
    "import pandas_datareader.data as web\n",
    "import datetime\n",
    "import matplotlib.pyplot as plt\n",
    "import sklearn.model_selection\n",
    "\n",
    "start=datetime.datetime(2005,1,1)\n",
    "end=datetime.datetime(2022,10,31)\n",
    "prices=web.DataReader('^GSPC','yahoo',start,end)\n",
    "\n",
    "df=prices[['Close', 'Low','Open' ,'High' ,'Volume']]\n",
    "\n",
    "df['MA60']=df[\"Close\"].rolling(60,min_periods=1).mean()\n",
    "df['MA20']=df[\"Close\"].rolling(20,min_periods=1).mean()\n",
    "df['MA10']=df[\"Close\"].rolling(10,min_periods=1).mean()\n",
    "df['Daily Return'] = df['Close'].pct_change()\n",
    "\n",
    "df['diff']=df['Daily Return'].shift(-1)\n",
    "df['up']= df['diff'].apply(lambda x: 2 if x>0.002 else (0 if x<-0.002 else 1 ))\n",
    "plt.plot(df['Close'],color=\"red\", label='Close')\n",
    "plt.plot(df['MA60'],color=\"blue\", label='MA60')\n",
    "\n",
    "fig , ax = plt.subplots(3, 2, sharex=True)\n"
   ]
  }
 ],
 "metadata": {
  "kernelspec": {
   "display_name": "Python 3",
   "language": "python",
   "name": "python3"
  },
  "language_info": {
   "codemirror_mode": {
    "name": "ipython",
    "version": 3
   },
   "file_extension": ".py",
   "mimetype": "text/x-python",
   "name": "python",
   "nbconvert_exporter": "python",
   "pygments_lexer": "ipython3",
   "version": "3.7.3"
  }
 },
 "nbformat": 4,
 "nbformat_minor": 2
}
