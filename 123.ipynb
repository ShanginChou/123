{
 "cells": [
  {
   "cell_type": "code",
   "execution_count": 6,
   "metadata": {},
   "outputs": [
    {
     "name": "stdout",
     "output_type": "stream",
     "text": [
      "Requirement already satisfied: yfinance in c:\\users\\118201\\appdata\\local\\continuum\\anaconda3\\lib\\site-packages (0.1.70)\n",
      "Requirement already satisfied: multitasking>=0.0.7 in c:\\users\\118201\\appdata\\local\\continuum\\anaconda3\\lib\\site-packages (from yfinance) (0.0.10)\n",
      "Requirement already satisfied: numpy>=1.15 in c:\\users\\118201\\appdata\\local\\continuum\\anaconda3\\lib\\site-packages (from yfinance) (1.21.6)\n",
      "Requirement already satisfied: requests>=2.26 in c:\\users\\118201\\appdata\\local\\continuum\\anaconda3\\lib\\site-packages (from yfinance) (2.27.1)\n",
      "Requirement already satisfied: lxml>=4.5.1 in c:\\users\\118201\\appdata\\local\\continuum\\anaconda3\\lib\\site-packages (from yfinance) (4.8.0)\n",
      "Requirement already satisfied: pandas>=0.24.0 in c:\\users\\118201\\appdata\\local\\continuum\\anaconda3\\lib\\site-packages (from yfinance) (1.3.5)\n",
      "Requirement already satisfied: idna<4,>=2.5; python_version >= \"3\" in c:\\users\\118201\\appdata\\local\\continuum\\anaconda3\\lib\\site-packages (from requests>=2.26->yfinance) (2.8)\n",
      "Requirement already satisfied: certifi>=2017.4.17 in c:\\users\\118201\\appdata\\local\\continuum\\anaconda3\\lib\\site-packages (from requests>=2.26->yfinance) (2019.3.9)\n",
      "Requirement already satisfied: charset-normalizer~=2.0.0; python_version >= \"3\" in c:\\users\\118201\\appdata\\local\\continuum\\anaconda3\\lib\\site-packages (from requests>=2.26->yfinance) (2.0.12)\n",
      "Requirement already satisfied: urllib3<1.27,>=1.21.1 in c:\\users\\118201\\appdata\\local\\continuum\\anaconda3\\lib\\site-packages (from requests>=2.26->yfinance) (1.26.9)\n",
      "Requirement already satisfied: pytz>=2017.3 in c:\\users\\118201\\appdata\\local\\continuum\\anaconda3\\lib\\site-packages (from pandas>=0.24.0->yfinance) (2018.9)\n",
      "Requirement already satisfied: python-dateutil>=2.7.3 in c:\\users\\118201\\appdata\\local\\continuum\\anaconda3\\lib\\site-packages (from pandas>=0.24.0->yfinance) (2.8.0)\n",
      "Requirement already satisfied: six>=1.5 in c:\\users\\118201\\appdata\\local\\continuum\\anaconda3\\lib\\site-packages (from python-dateutil>=2.7.3->pandas>=0.24.0->yfinance) (1.12.0)\n"
     ]
    },
    {
     "name": "stderr",
     "output_type": "stream",
     "text": [
      "Error processing line 7 of C:\\Users\\118201\\AppData\\Local\\Continuum\\anaconda3\\lib\\site-packages\\pywin32.pth:\n",
      "\n",
      "  Traceback (most recent call last):\n",
      "    File \"C:\\Users\\118201\\AppData\\Local\\Continuum\\anaconda3\\lib\\site.py\", line 168, in addpackage\n",
      "      exec(line)\n",
      "    File \"<string>\", line 1, in <module>\n",
      "  ModuleNotFoundError: No module named 'pywin32_bootstrap'\n",
      "\n",
      "Remainder of file ignored\n"
     ]
    }
   ],
   "source": [
    "!pip install yfinance"
   ]
  },
  {
   "cell_type": "code",
   "execution_count": 2,
   "metadata": {},
   "outputs": [
    {
     "name": "stdout",
     "output_type": "stream",
     "text": [
      "[*********************100%***********************]  1 of 1 completed\n",
      "[*********************100%***********************]  1 of 1 completed\n"
     ]
    }
   ],
   "source": [
    "\n",
    "import yfinance as yf\n",
    "import datetime\n",
    "import pandas as pd\n",
    "from dateutil.relativedelta import relativedelta\n",
    "import matplotlib.pyplot as plt\n",
    "from matplotlib.pyplot import MultipleLocator\n",
    "\n",
    "date = datetime.date.today()\n",
    "today = str(date)\n",
    "start_years = str(date.today() + relativedelta(years=-20))\n",
    "stock_list = ['^GSPC', '^VIX']\n",
    "\n",
    "# 抓取20年資料\n",
    "df = yf.download(stock_list[0], start = start_years, end = today).drop(columns='Adj Close')\n",
    "vix = yf.download(stock_list[1], start = start_years, end = today)\n",
    "\n"
   ]
  },
  {
   "cell_type": "code",
   "execution_count": 4,
   "metadata": {},
   "outputs": [],
   "source": [
    "df['VIX']=vix['Close']\n",
    "df['MA10']=df['Close'].rolling(10,min_periods=1).mean()\n",
    "df['MA60']=df['Close'].rolling(60,min_periods=1).mean()\n",
    "df['Daily Return'] = df['Close'].pct_change()\n",
    "df['VixMA']=df[\"VIX\"].rolling(10,min_periods=1).mean()\n",
    "df['VIXDiffer']=df['VIX']-df['VixMA']\n",
    "df['diff']=df['Daily Return'].shift(-1)\n",
    "\n",
    "df['VIXup']= df['VIXDiffer'].apply(lambda x: 1 if x>0 else 0)\n",
    "df['Close0']=(df['Close']-df['Open'])/df['Open']\n",
    "df['Vol0']=(df['Volume']-df['Volume'].rolling(10,min_periods=1).mean())/df['Volume']\n",
    "df['MA10_0']=(df['Close']-df['MA10'])/df['MA10']\n",
    "df['MA60_0']=(df['Close']-df['MA60'])/df['MA60']\n",
    "df['Mid']=(df['Close']-df['Low'])/(df['High']-df['Low'])\n",
    "df['TR']=(df['High']-df['Low'])/df['Close']\n",
    "df['Open0']=df['Open']-df['Close'].shift(1)\n",
    "# y\n"
   ]
  },
  {
   "cell_type": "code",
   "execution_count": 5,
   "metadata": {},
   "outputs": [
    {
     "name": "stdout",
     "output_type": "stream",
     "text": [
      "漲:  1835 \n",
      "平:  1701 \n",
      "跌:  1498\n",
      "Accuracy: 40.55%\n",
      "訓練集 Accuracy:  0.9908045977011494\n",
      "測試集 Accuracy:  0.4054959785522788\n"
     ]
    }
   ],
   "source": [
    "df['up']= df['diff'].apply(lambda x: 2 if x>0.003 else (0 if x<-0.003 else 1 ))\n",
    "print('漲: ',len(df.loc[df['up'] == 2]), '\\n平: ',len(df.loc[df['up'] == 1]), '\\n跌: ',len(df.loc[df['up'] == 0]))\n",
    "\n",
    "df=df[:-1]\n",
    "\n",
    "X=df[['VIXDiffer','Close0', 'Mid','Vol0' , 'MA10_0' , 'MA60_0' , 'TR' , 'Open0']]\n",
    "y=df[['up']]\n",
    "\n",
    "X = X[61:]\n",
    "y = y[61:]\n",
    "\n",
    "#\n",
    "import sklearn.model_selection\n",
    "X_train, X_test, y_train, y_test = sklearn.model_selection.train_test_split(X, y, test_size=0.3, shuffle=False)\n",
    "\n",
    "from xgboost import XGBClassifier\n",
    "from sklearn.metrics import accuracy_score\n",
    "\n",
    "model = XGBClassifier(booster='gbtree', objective='multi:softprob')\n",
    "model.fit(X_train, y_train)\n",
    "y_pred = model.predict(X_test)\n",
    "accuracy = accuracy_score(y_test, y_pred )\n",
    "\n",
    "print(\"Accuracy: %.2f%%\" % (accuracy * 100.0))\n",
    "\n",
    "print('訓練集 Accuracy: ',model.score(X_train,y_train))\n",
    "print('測試集 Accuracy: ',model.score(X_test,y_test))"
   ]
  },
  {
   "cell_type": "code",
   "execution_count": null,
   "metadata": {},
   "outputs": [],
   "source": []
  }
 ],
 "metadata": {
  "kernelspec": {
   "display_name": "Python 3",
   "language": "python",
   "name": "python3"
  },
  "language_info": {
   "codemirror_mode": {
    "name": "ipython",
    "version": 3
   },
   "file_extension": ".py",
   "mimetype": "text/x-python",
   "name": "python",
   "nbconvert_exporter": "python",
   "pygments_lexer": "ipython3",
   "version": "3.7.3"
  }
 },
 "nbformat": 4,
 "nbformat_minor": 2
}
